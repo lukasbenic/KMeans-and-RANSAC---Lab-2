{
 "cells": [
  {
   "cell_type": "markdown",
   "metadata": {},
   "source": [
    "## Linear Regression and RANSAC"
   ]
  },
  {
   "cell_type": "raw",
   "metadata": {},
   "source": [
    "This example is adapted from: https://scikit-learn.org/stable/auto_examples/linear_model/plot_ransac.html"
   ]
  },
  {
   "cell_type": "code",
   "execution_count": 1,
   "metadata": {},
   "outputs": [],
   "source": [
    "# Load the modules we need\n",
    "import numpy as np\n",
    "from matplotlib import pyplot as plt\n",
    "from sklearn import linear_model, datasets\n",
    "from statsmodels import robust\n",
    "import random\n",
    "from scipy import stats\n",
    "import copy"
   ]
  },
  {
   "cell_type": "code",
   "execution_count": 2,
   "metadata": {},
   "outputs": [],
   "source": [
    "#  Create some intial data\n",
    "n_samples = 1000\n",
    "\n",
    "X, y = datasets.make_regression(n_samples=n_samples, n_features=1,\n",
    "                                      n_informative=1, noise=10,\n",
    "                                      random_state=0)"
   ]
  },
  {
   "cell_type": "code",
   "execution_count": 3,
   "metadata": {},
   "outputs": [],
   "source": [
    "# Add some outlier data\n",
    "np.random.seed(0)\n",
    "n_outliers = 50\n",
    "X[:n_outliers] = 3 + 0.5 * np.random.normal(size=(n_outliers, 1))\n",
    "y[:n_outliers] = -3 + 10 * np.random.normal(size=n_outliers)\n"
   ]
  },
  {
   "cell_type": "code",
   "execution_count": 4,
   "metadata": {},
   "outputs": [],
   "source": [
    "# Create some test positions for for the lines we will draw\n",
    "line_X = np.arange(X.min(), X.max())[:, np.newaxis]"
   ]
  },
  {
   "cell_type": "code",
   "execution_count": 5,
   "metadata": {},
   "outputs": [],
   "source": [
    "# Class for task 2\n",
    "class LinearRegression:\n",
    "    \n",
    "    def fit(self, X, y):\n",
    "        self._theta = self.objective_function(X, y)\n",
    "    \n",
    "    def predict(self, X):\n",
    "        predictions = np.multiply(X, self._theta)\n",
    "        return predictions \n",
    "    \n",
    "    def objective_function(self, X, y):\n",
    "        return np.dot(np.linalg.inv(np.dot(X.T, X)), np.dot(X.T, y))"
   ]
  },
  {
   "cell_type": "code",
   "execution_count": 6,
   "metadata": {},
   "outputs": [],
   "source": [
    "# This is the cell you need to replace to complete Task 2.\n",
    "# Fit line using all data.\n",
    "\n",
    "lr = LinearRegression()\n",
    "lr.fit(X, y)\n",
    "line_y = lr.predict(line_X)"
   ]
  },
  {
   "cell_type": "code",
   "execution_count": 7,
   "metadata": {},
   "outputs": [],
   "source": [
    "# class for task 3\n",
    "class RANSACRegressor():\n",
    "    \n",
    "    def __init__(self, max_iter=100, residual_threshold=1):\n",
    "        self.inlier_mask_ = []\n",
    "        self._max_iter = max_iter\n",
    "        self.residual_threshold = residual_threshold\n",
    "        self.opt_slope = 0\n",
    "        self.opt_intercept = 0\n",
    "        \n",
    "    def _line(self, x, slope, intercept):\n",
    "        return slope * x + intercept\n",
    "    \n",
    "    def fit(self, X, y):\n",
    "        self.residual_threshold = robust.mad(y)\n",
    "        n_points = X.shape[0]\n",
    "\n",
    "        n_inliers = 0\n",
    "\n",
    "        for _ in range(self._max_iter):\n",
    "            mask = []\n",
    "            rand_p = np.random.randint(low=0, high=n_points, size=2)\n",
    "            X_rand = X[rand_p, :].flatten()\n",
    "            y_rand = y[rand_p]\n",
    "\n",
    "            slope, intercept, _, _, _ = stats.linregress(X_rand, y_rand)\n",
    "            y_pred = self._line(X, slope, intercept).flatten()\n",
    "            residual_error = np.subtract(y_pred, y)\n",
    "            \n",
    "            for error in residual_error:\n",
    "                if np.abs(error) < self.residual_threshold:\n",
    "                    mask.append(True)\n",
    "                else:\n",
    "                    mask.append(False)\n",
    "                    \n",
    "            curr_n_inliers = np.sum(mask)\n",
    "\n",
    "            if curr_n_inliers > n_inliers:\n",
    "                self.inlier_mask_ = copy.deepcopy(mask)\n",
    "                self.opt_slope = slope\n",
    "                self.opt_intercept = intercept\n",
    "                n_inliers = np.sum(self.inlier_mask_)\n",
    "    \n",
    "    def predict(self, line_X):\n",
    "        slope = self.opt_slope\n",
    "        intercept = self.opt_intercept\n",
    "        y_pred = self._line(line_X, slope, intercept)\n",
    "        \n",
    "        return y_pred          "
   ]
  },
  {
   "cell_type": "code",
   "execution_count": 8,
   "metadata": {},
   "outputs": [],
   "source": [
    "# This is the cell you need to replace to complete Task 3.\n",
    "# Robustly fit linear model with RANSAC algorithm\n",
    "ransac = RANSACRegressor()\n",
    "ransac.fit(X, y)\n",
    "\n",
    "# Predict data of estimated models\n",
    "line_y_ransac = ransac.predict(line_X)\n",
    "\n",
    "# Label the if source data is inlier or outlier\n",
    "inlier_mask = ransac.inlier_mask_\n",
    "outlier_mask = np.logical_not(inlier_mask)\n"
   ]
  },
  {
   "cell_type": "code",
   "execution_count": 9,
   "metadata": {},
   "outputs": [
    {
     "data": {
      "image/png": "[encoded data removed]",
      "text/plain": [
       "<Figure size 432x288 with 1 Axes>"
      ]
     },
     "metadata": {
      "needs_background": "light"
     },
     "output_type": "display_data"
    }
   ],
   "source": [
    "lw = 2\n",
    "\n",
    "doing_linear = True\n",
    "doing_ransac = True\n",
    "\n",
    "if (doing_linear):\n",
    "    plt.plot(line_X, line_y, color='navy', linewidth=lw, label='Linear regressor')\n",
    "\n",
    "if (doing_ransac):\n",
    "    plt.scatter(X[inlier_mask], y[inlier_mask], color='yellowgreen', marker='.', label='Inliers')\n",
    "    plt.scatter(X[outlier_mask], y[outlier_mask], color='gold', marker='.', label='Outliers')\n",
    "    plt.plot(line_X, line_y_ransac, color='cornflowerblue', linewidth=lw, label='RANSAC regressor')\n",
    "else:\n",
    "    plt.scatter(X, y, color='yellowgreen', marker='.', label='Data')\n",
    "    \n",
    "plt.legend(loc='lower right')\n",
    "plt.xlabel(\"Input\")\n",
    "plt.ylabel(\"Response\")\n",
    "plt.show()"
   ]
  },
  {
   "cell_type": "code",
   "execution_count": null,
   "metadata": {},
   "outputs": [],
   "source": []
  },
  {
   "cell_type": "code",
   "execution_count": null,
   "metadata": {},
   "outputs": [],
   "source": []
  }
 ],
 "metadata": {
  "kernelspec": {
   "display_name": "Python 3",
   "language": "python",
   "name": "python3"
  },
  "language_info": {
   "codemirror_mode": {
    "name": "ipython",
    "version": 3
   },
   "file_extension": ".py",
   "mimetype": "text/x-python",
   "name": "python",
   "nbconvert_exporter": "python",
   "pygments_lexer": "ipython3",
   "version": "3.8.5"
  }
 },
 "nbformat": 4,
 "nbformat_minor": 2
}
